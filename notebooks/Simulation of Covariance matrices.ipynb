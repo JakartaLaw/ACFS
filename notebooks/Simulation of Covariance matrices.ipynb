{
 "cells": [
  {
   "cell_type": "code",
   "execution_count": 1,
   "metadata": {},
   "outputs": [],
   "source": [
    "import numpy as np\n",
    "import pandas as pd\n",
    "import matplotlib.pyplot as plt\n",
    "import seaborn as sbn\n",
    "import scipy.stats as stats\n",
    "import pickle\n",
    "import time"
   ]
  },
  {
   "cell_type": "code",
   "execution_count": 2,
   "metadata": {},
   "outputs": [],
   "source": [
    "lower, upper = -0.99, 0.99\n",
    "mu, sigma = 0.313, 0.188"
   ]
  },
  {
   "cell_type": "code",
   "execution_count": 3,
   "metadata": {},
   "outputs": [],
   "source": [
    "dist = stats.truncnorm((lower - mu) / sigma, (upper - mu) / sigma, mu, sigma)"
   ]
  },
  {
   "cell_type": "code",
   "execution_count": 4,
   "metadata": {},
   "outputs": [],
   "source": [
    "def create_permutations(n=11):\n",
    "    perms = list()\n",
    "    for i in range(n):\n",
    "        for j in range(i):\n",
    "            perms.append((i, j))\n",
    "\n",
    "    return perms\n",
    "\n",
    "def sample_correlation_matrix(n=11):\n",
    "    \"\"\"n is the number of elements pr. dimension for symetric matrix\n",
    "    \"\"\"\n",
    "    \n",
    "    perms = create_permutations(n)\n",
    "    \n",
    "    res = np.ones(shape=(n,n))\n",
    "    for ix in perms:\n",
    "        x, y = ix[0], ix[1]\n",
    "        corr_ij = dist.rvs()\n",
    "        res[x, y] = corr_ij \n",
    "        res[y, x] = corr_ij\n",
    "        \n",
    "    return res"
   ]
  },
  {
   "cell_type": "code",
   "execution_count": 5,
   "metadata": {},
   "outputs": [],
   "source": [
    "def sample_variances(n=11):\n",
    "    # found in another notebook\n",
    "    loc, scale = 0.0, 0.000346843\n",
    "    return stats.expon(loc, scale).rvs(n)\n",
    "    \n",
    "def sample_stds(n=11):\n",
    "    variances = sample_variances(n)\n",
    "    return np.array(list(map(np.sqrt, variances)))"
   ]
  },
  {
   "cell_type": "code",
   "execution_count": 6,
   "metadata": {},
   "outputs": [],
   "source": [
    "def calc_covar_matrix(var_array, corr_matrix):\n",
    "    n = len(var_array)\n",
    "    perms = create_permutations(n)\n",
    "    \n",
    "    cov_matrix = np.eye(11) * var_array\n",
    "    for ix in perms:\n",
    "        i, j = ix[0], ix[1]\n",
    "        sigma1, sigma2 = np.sqrt(var_array[i]), np.sqrt(var_array[j])\n",
    "        cov = corr_matrix[i, j] * sigma1 * sigma2\n",
    "        cov_matrix[i, j], cov_matrix[j, i] = cov, cov\n",
    "        \n",
    "    return cov_matrix"
   ]
  },
  {
   "cell_type": "code",
   "execution_count": 7,
   "metadata": {},
   "outputs": [],
   "source": [
    "def is_pos_def(x):\n",
    "    return np.all(np.linalg.eigvals(x) > 0)"
   ]
  },
  {
   "cell_type": "code",
   "execution_count": 8,
   "metadata": {},
   "outputs": [],
   "source": [
    "var_array, corr_matrix = sample_variances(), sample_correlation_matrix()\n",
    "cov_matrix = calc_covar_matrix(var_array, corr_matrix)"
   ]
  },
  {
   "cell_type": "code",
   "execution_count": 9,
   "metadata": {},
   "outputs": [
    {
     "name": "stdout",
     "output_type": "stream",
     "text": [
      "time passed 3431.7 seconds. Pos is 10000. Percentage done 100.0 %\r"
     ]
    }
   ],
   "source": [
    "# Creating dataset of covar matrices!\n",
    "\n",
    "tic = time.time()\n",
    "\n",
    "number_of_covar_matrices = 10000\n",
    "\n",
    "matrices = list()\n",
    "\n",
    "pos = 0\n",
    "while pos < number_of_covar_matrices:\n",
    "    var_array, corr_matrix = sample_variances(), sample_correlation_matrix()\n",
    "    cov_matrix = calc_covar_matrix(var_array, corr_matrix)\n",
    "\n",
    "    if is_pos_def(cov_matrix) == True:\n",
    "        pos += 1\n",
    "        matrices.append(cov_matrix)\n",
    "            \n",
    "        if pos % 5 == 0:\n",
    "            toc = time.time()\n",
    "            perc_left = pos / number_of_covar_matrices * 100\n",
    "            print(f'time passed {toc-tic:.1f} seconds. Pos is {pos}. Percentage done {perc_left:.1f} %', flush=True, end=\"\\r\")\n",
    "            \n",
    "        "
   ]
  },
  {
   "cell_type": "code",
   "execution_count": 10,
   "metadata": {},
   "outputs": [],
   "source": [
    "obs = list()\n",
    "for m in matrices:\n",
    "    for o in np.diag(m):\n",
    "        obs.append(o)\n",
    "        \n",
    "        \n",
    "k = np.array(obs)"
   ]
  },
  {
   "cell_type": "code",
   "execution_count": 11,
   "metadata": {},
   "outputs": [
    {
     "data": {
      "text/plain": [
       "<matplotlib.axes._subplots.AxesSubplot at 0x11798b4e0>"
      ]
     },
     "execution_count": 11,
     "metadata": {},
     "output_type": "execute_result"
    },
    {
     "data": {
      "image/png": "[encoded data removed]",
      "text/plain": [
       "<Figure size 432x288 with 1 Axes>"
      ]
     },
     "metadata": {
      "needs_background": "light"
     },
     "output_type": "display_data"
    }
   ],
   "source": [
    "sbn.distplot(k)"
   ]
  },
  {
   "cell_type": "code",
   "execution_count": 12,
   "metadata": {},
   "outputs": [],
   "source": [
    "obs = list()\n",
    "for m in matrices:\n",
    "    for o in m.flatten():\n",
    "        obs.append(o)\n",
    "        \n",
    "        \n",
    "k = np.array(obs)"
   ]
  },
  {
   "cell_type": "code",
   "execution_count": 13,
   "metadata": {},
   "outputs": [
    {
     "data": {
      "text/plain": [
       "<matplotlib.axes._subplots.AxesSubplot at 0x103db3ba8>"
      ]
     },
     "execution_count": 13,
     "metadata": {},
     "output_type": "execute_result"
    },
    {
     "data": {
      "image/png": "[encoded data removed]",
      "text/plain": [
       "<Figure size 432x288 with 1 Axes>"
      ]
     },
     "metadata": {
      "needs_background": "light"
     },
     "output_type": "display_data"
    }
   ],
   "source": [
    "sbn.distplot(k)"
   ]
  },
  {
   "cell_type": "code",
   "execution_count": 14,
   "metadata": {},
   "outputs": [],
   "source": [
    "# The distribution above looks similar to what we could expect given the distribution found empirically"
   ]
  },
  {
   "cell_type": "code",
   "execution_count": 15,
   "metadata": {},
   "outputs": [],
   "source": [
    "# Saving the matrices\n",
    "with open('..//data//simulated_covar_matrices.pickle', 'wb') as f:\n",
    "    pickle.dump(matrices, f)"
   ]
  },
  {
   "cell_type": "code",
   "execution_count": 16,
   "metadata": {},
   "outputs": [],
   "source": [
    "# Sampling means"
   ]
  },
  {
   "cell_type": "code",
   "execution_count": null,
   "metadata": {},
   "outputs": [],
   "source": []
  }
 ],
 "metadata": {
  "kernelspec": {
   "display_name": "Python 3 (ACFS)",
   "language": "python",
   "name": "sodaexam"
  },
  "language_info": {
   "codemirror_mode": {
    "name": "ipython",
    "version": 3
   },
   "file_extension": ".py",
   "mimetype": "text/x-python",
   "name": "python",
   "nbconvert_exporter": "python",
   "pygments_lexer": "ipython3",
   "version": "3.7.2"
  }
 },
 "nbformat": 4,
 "nbformat_minor": 2
}
