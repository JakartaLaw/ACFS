{
 "cells": [
  {
   "cell_type": "code",
   "execution_count": 6,
   "metadata": {},
   "outputs": [],
   "source": [
    "import pandas as pd\n",
    "import numpy as np\n",
    "import matplotlib.pyplot as plt\n",
    "\n",
    "from collections import deque"
   ]
  },
  {
   "cell_type": "code",
   "execution_count": 360,
   "metadata": {},
   "outputs": [],
   "source": [
    "df_breaks = pd.read_pickle('..//data//simulated_breaks_ix.pickle')\n",
    "df_returns = pd.read_pickle('..//data//simulated_returns.pickle')\n",
    "df_highest_sharp = pd.read_pickle('..//data//highest_shape_ratios.pickle')\n",
    "df_true_sharp = pd.read_pickle('..//data//sharp_ratios.pickle')"
   ]
  },
  {
   "cell_type": "code",
   "execution_count": 22,
   "metadata": {},
   "outputs": [],
   "source": [
    "#f_highest_sharp"
   ]
  },
  {
   "cell_type": "code",
   "execution_count": 23,
   "metadata": {},
   "outputs": [],
   "source": [
    "rf = 7.85849419846496e-05"
   ]
  },
  {
   "cell_type": "code",
   "execution_count": 447,
   "metadata": {},
   "outputs": [],
   "source": [
    "class RollingSharp():\n",
    "    \n",
    "    def __init__(self, riskfree_rate, window=20):\n",
    "        self.obs = deque(list(), window)\n",
    "        self.window = window\n",
    "        self.riskfree_rate = riskfree_rate\n",
    "        \n",
    "    def __repr__(self):\n",
    "        return str(self.obs)\n",
    "    \n",
    "    @property\n",
    "    def mean(self):\n",
    "        return np.mean(self.obs) - self.riskfree_rate\n",
    "    \n",
    "    @property\n",
    "    def std(self):\n",
    "        \n",
    "        std = np.std(self.obs)\n",
    "        if std == 0.0:\n",
    "            return 0.01\n",
    "        return std\n",
    "    \n",
    "    def sharp_ratio(self):\n",
    "        return self.mean / self.std\n",
    "    \n",
    "    def pred(self, x):\n",
    "        self.obs.append(x)\n",
    "        return self.sharp_ratio()\n",
    "        \n",
    "        "
   ]
  },
  {
   "cell_type": "code",
   "execution_count": 448,
   "metadata": {},
   "outputs": [],
   "source": [
    "class RollingSharpDecayingMean(RollingSharp):\n",
    "    \n",
    "    def __init__(self, riskfree_rate, window):\n",
    "        super().__init__(riskfree_rate, window)\n",
    "        \n",
    "    @staticmethod\n",
    "    def calc_weights(n):\n",
    "        return np.arange(1, n+1) / (((n+1) * n) / 2)\n",
    "        \n",
    "    @property\n",
    "    def mean(self):\n",
    "        n = len(self.obs)\n",
    "        weights = self.calc_weights(n)\n",
    "        return np.dot(weights, np.array(self.obs))"
   ]
  },
  {
   "cell_type": "code",
   "execution_count": 462,
   "metadata": {},
   "outputs": [],
   "source": [
    "_start, _end = 0, 5000\n",
    "\n",
    "hyper_params = [50, 100, 150, 200, 250, 300]\n",
    "mse_list = list()\n",
    "\n",
    "for h in hyper_params:\n",
    "    df_dict = {}\n",
    "\n",
    "    for col in df_returns.columns:\n",
    "        rs = RollingSharp(rf, window=h)\n",
    "        res = list(map(rs.pred, df_returns[col][_start:_end]))\n",
    "        df_dict[col] = res\n",
    "\n",
    "    rolling_sharp = pd.DataFrame(df_dict)\n",
    "    mse = ((df_true_sharp.iloc[start: end] - rolling_sharp)**2).mean(axis=1).mean()\n",
    "    mse_list.append(mse)"
   ]
  },
  {
   "cell_type": "code",
   "execution_count": 464,
   "metadata": {},
   "outputs": [
    {
     "data": {
      "text/plain": [
       "[<matplotlib.lines.Line2D at 0x13a3ce3c8>]"
      ]
     },
     "execution_count": 464,
     "metadata": {},
     "output_type": "execute_result"
    },
    {
     "data": {
      "image/png": "[encoded data removed]",
      "text/plain": [
       "<Figure size 432x288 with 1 Axes>"
      ]
     },
     "metadata": {
      "needs_background": "light"
     },
     "output_type": "display_data"
    }
   ],
   "source": [
    "plt.plot(hyper_params, mse_list)  "
   ]
  },
  {
   "cell_type": "code",
   "execution_count": 465,
   "metadata": {},
   "outputs": [],
   "source": [
    "df_dict = {}\n",
    "\n",
    "for col in df_returns.columns:\n",
    "    rs = RollingSharp(rf, window=200)\n",
    "    res = list(map(rs.pred, df_returns[col][_start:_end]))\n",
    "    df_dict[col] = res\n",
    "\n",
    "rolling_sharp = pd.DataFrame(df_dict)\n",
    "mse = ((df_true_sharp.iloc[start: end] - rolling_sharp)**2).mean(axis=1).mean()"
   ]
  },
  {
   "cell_type": "code",
   "execution_count": 466,
   "metadata": {},
   "outputs": [
    {
     "data": {
      "text/plain": [
       "0.018136779715155416"
      ]
     },
     "execution_count": 466,
     "metadata": {},
     "output_type": "execute_result"
    }
   ],
   "source": [
    "mse"
   ]
  },
  {
   "cell_type": "code",
   "execution_count": 186,
   "metadata": {},
   "outputs": [],
   "source": [
    "from functools import partial\n",
    "def is_highest(x, row):\n",
    "    if x == max(row):\n",
    "        return 1\n",
    "    else:\n",
    "        return 0\n",
    "    \n",
    "def dummy_highest_val(row):\n",
    "    \n",
    "    return list(map(partial(is_highest, row=row), row))"
   ]
  },
  {
   "cell_type": "code",
   "execution_count": 187,
   "metadata": {},
   "outputs": [],
   "source": [
    "highest_rolling_sharp = rolling_sharp.apply(dummy_highest_val, axis=1, result_type='broadcast')"
   ]
  },
  {
   "cell_type": "code",
   "execution_count": 188,
   "metadata": {},
   "outputs": [],
   "source": [
    "res = ((highest_rolling_sharp - df_highest_sharp.iloc[0:1000])**2).sum(axis=1) / 2"
   ]
  },
  {
   "cell_type": "code",
   "execution_count": 189,
   "metadata": {},
   "outputs": [
    {
     "data": {
      "text/plain": [
       "<matplotlib.axes._subplots.AxesSubplot at 0x1183eb208>"
      ]
     },
     "execution_count": 189,
     "metadata": {},
     "output_type": "execute_result"
    },
    {
     "data": {
      "image/png": "[encoded data removed]",
      "text/plain": [
       "<Figure size 432x288 with 1 Axes>"
      ]
     },
     "metadata": {
      "needs_background": "light"
     },
     "output_type": "display_data"
    }
   ],
   "source": [
    "res.plot()"
   ]
  },
  {
   "cell_type": "markdown",
   "metadata": {},
   "source": [
    "### RollingSharpRatioLSTM\n",
    "\n",
    "Attempting to make a rolling scheme of finding sharp ratio"
   ]
  },
  {
   "cell_type": "code",
   "execution_count": 446,
   "metadata": {},
   "outputs": [],
   "source": [
    "class RollingSharpLSTM():\n",
    "    \n",
    "    def __init__(self, riskfree_rate, long_window=50, short_window=10, threshold=0.5):\n",
    "        self.long_mem = deque(list(), long_window)\n",
    "        self.short_mem = deque(list(), short_window)\n",
    "        self.short_window = short_window\n",
    "        self.long_window = long_window\n",
    "        self.riskfree_rate = riskfree_rate\n",
    "        self.log_swap = list()\n",
    "        self.iter = 0\n",
    "        self.threshold = threshold\n",
    "        \n",
    "    def __repr__(self):\n",
    "        return str(self.long_mem)\n",
    "        \n",
    "    @staticmethod\n",
    "    def calc_sharp(mem, rf):\n",
    "        lm_df = pd.DataFrame(mem)\n",
    "        res = (lm_df.mean(axis=0) - rf) / lm_df.std(axis=0)\n",
    "        return res.fillna(0.1)\n",
    "    \n",
    "    def long_sharp(self):\n",
    "        return self.calc_sharp(self.long_mem, self.riskfree_rate)\n",
    "    \n",
    "    def short_sharp(self):\n",
    "        return self.calc_sharp(self.short_mem, self.riskfree_rate)\n",
    "    \n",
    "    def swap_memory(self):\n",
    "        \"\"\"Replacing old long term memory with short term\"\"\"\n",
    "        self.long_mem = deque(list(self.short_mem), self.long_window)\n",
    "        self.log_swap.append(self.iter)\n",
    "        \n",
    "    def calc_squared_distance(self, x):\n",
    "        self.long_mem.append(x)\n",
    "        self.short_mem.append(x)\n",
    "        return np.mean((self.long_sharp() - self.short_sharp())**2)\n",
    "\n",
    "    def pred(self, x):\n",
    "        self.iter += 1\n",
    "        dist = self.calc_squared_distance(x)\n",
    "        if dist > self.threshold:\n",
    "            self.swap_memory()\n",
    "            \n",
    "        return self.long_sharp()"
   ]
  },
  {
   "cell_type": "code",
   "execution_count": 445,
   "metadata": {},
   "outputs": [
    {
     "data": {
      "text/plain": [
       "{0: 's_1',\n",
       " 1: 's_2',\n",
       " 2: 's_3',\n",
       " 3: 's_4',\n",
       " 4: 's_5',\n",
       " 5: 's_6',\n",
       " 6: 's_7',\n",
       " 7: 's_8',\n",
       " 8: 's_9',\n",
       " 9: 's_10',\n",
       " 10: 's_11'}"
      ]
     },
     "execution_count": 445,
     "metadata": {},
     "output_type": "execute_result"
    }
   ],
   "source": [
    "names = {stock_n : f's_{stock_n + 1}'  for stock_n in range(11)}\n",
    "names"
   ]
  },
  {
   "cell_type": "code",
   "execution_count": 405,
   "metadata": {},
   "outputs": [
    {
     "data": {
      "text/plain": [
       "0.02907801918630403"
      ]
     },
     "execution_count": 405,
     "metadata": {},
     "output_type": "execute_result"
    }
   ],
   "source": [
    "((df_true_sharp.iloc[start: end] - res)**2).mean(axis=1).mean()"
   ]
  },
  {
   "cell_type": "code",
   "execution_count": 407,
   "metadata": {},
   "outputs": [],
   "source": [
    "# Optimizing hyper parameters"
   ]
  },
  {
   "cell_type": "code",
   "execution_count": 419,
   "metadata": {},
   "outputs": [],
   "source": [
    "hyper_parameters = list()\n",
    "for _threshold in [0.3, 0.5, 0.8]:\n",
    "    for _long_window in [50, 100, 150]:\n",
    "        for _short_window in [15, 30, 45]:\n",
    "            hyper_parameters.append((_threshold, _long_window, _short_window)) "
   ]
  },
  {
   "cell_type": "code",
   "execution_count": 422,
   "metadata": {},
   "outputs": [
    {
     "name": "stdout",
     "output_type": "stream",
     "text": [
      "iter over\n",
      "iter over\n",
      "iter over\n",
      "iter over\n",
      "iter over\n",
      "iter over\n",
      "iter over\n",
      "iter over\n",
      "iter over\n",
      "iter over\n",
      "iter over\n",
      "iter over\n",
      "iter over\n",
      "iter over\n",
      "iter over\n",
      "iter over\n",
      "iter over\n",
      "iter over\n",
      "iter over\n",
      "iter over\n",
      "iter over\n",
      "iter over\n",
      "iter over\n",
      "iter over\n",
      "iter over\n",
      "iter over\n",
      "iter over\n"
     ]
    }
   ],
   "source": [
    "# set period of calculating\n",
    "start, end = 0, 3000\n",
    "\n",
    "results = []\n",
    "\n",
    "#hyper parameters:\n",
    "for hp in hyper_parameters:  \n",
    "        \n",
    "    # predicting sharp ratio\n",
    "    rs_lstm = RollingSharpLSTM(rf, threshold=hp[0], long_window=hp[1], short_window=hp[2])\n",
    "    res = list(map(rs_lstm.pred, np.array(df_returns.iloc[start:end])))        \n",
    "    res = pd.DataFrame(res)\n",
    "\n",
    "    # calculating mse\n",
    "    res.rename(names, axis=1, inplace=True)\n",
    "    mse = ((df_true_sharp.iloc[start: end] - res)**2).mean(axis=1).mean()\n",
    "\n",
    "    results.append((mse, hp[0], hp[1], hp[2]))\n",
    "        \n",
    "    print('iter over')"
   ]
  },
  {
   "cell_type": "code",
   "execution_count": 423,
   "metadata": {},
   "outputs": [],
   "source": [
    "#df_hyperparameters = pd.DataFrame(results)"
   ]
  },
  {
   "cell_type": "code",
   "execution_count": 425,
   "metadata": {},
   "outputs": [],
   "source": [
    "#df_hyperparameters.to_pickle('..//data//hyperparameter_tuning.pickle')"
   ]
  },
  {
   "cell_type": "code",
   "execution_count": 427,
   "metadata": {},
   "outputs": [],
   "source": [
    "df_hyperparameters.columns = ['mse', 'threshold', 'long window', 'short window']"
   ]
  },
  {
   "cell_type": "code",
   "execution_count": 429,
   "metadata": {},
   "outputs": [
    {
     "data": {
      "text/html": [
       "<div>\n",
       "<style scoped>\n",
       "    .dataframe tbody tr th:only-of-type {\n",
       "        vertical-align: middle;\n",
       "    }\n",
       "\n",
       "    .dataframe tbody tr th {\n",
       "        vertical-align: top;\n",
       "    }\n",
       "\n",
       "    .dataframe thead th {\n",
       "        text-align: right;\n",
       "    }\n",
       "</style>\n",
       "<table border=\"1\" class=\"dataframe\">\n",
       "  <thead>\n",
       "    <tr style=\"text-align: right;\">\n",
       "      <th></th>\n",
       "      <th>mse</th>\n",
       "      <th>threshold</th>\n",
       "      <th>long window</th>\n",
       "      <th>short window</th>\n",
       "    </tr>\n",
       "  </thead>\n",
       "  <tbody>\n",
       "    <tr>\n",
       "      <th>7</th>\n",
       "      <td>0.015622</td>\n",
       "      <td>0.3</td>\n",
       "      <td>150</td>\n",
       "      <td>30</td>\n",
       "    </tr>\n",
       "  </tbody>\n",
       "</table>\n",
       "</div>"
      ],
      "text/plain": [
       "        mse  threshold  long window  short window\n",
       "7  0.015622        0.3          150            30"
      ]
     },
     "execution_count": 429,
     "metadata": {},
     "output_type": "execute_result"
    }
   ],
   "source": [
    "df_hyperparameters.loc[df_hyperparameters['mse'].min() == df_hyperparameters['mse']]"
   ]
  },
  {
   "cell_type": "code",
   "execution_count": 488,
   "metadata": {},
   "outputs": [],
   "source": [
    "start, end = 0, 5000\n",
    "rs_lstm = RollingSharpLSTM(rf, threshold=0.3, long_window=150, short_window=30)\n",
    "res = list(map(rs_lstm.pred, np.array(df_returns.iloc[start:end])))\n",
    "breaks = df_breaks.loc[(df_breaks.break_ix <= end) & (df_breaks.break_ix >= start)]"
   ]
  },
  {
   "cell_type": "code",
   "execution_count": 489,
   "metadata": {},
   "outputs": [
    {
     "data": {
      "text/plain": [
       "[2724]"
      ]
     },
     "execution_count": 489,
     "metadata": {},
     "output_type": "execute_result"
    }
   ],
   "source": [
    "rs_lstm.log_swap"
   ]
  },
  {
   "cell_type": "code",
   "execution_count": 490,
   "metadata": {},
   "outputs": [
    {
     "data": {
      "text/plain": [
       "<matplotlib.legend.Legend at 0x13bb241d0>"
      ]
     },
     "execution_count": 490,
     "metadata": {},
     "output_type": "execute_result"
    },
    {
     "data": {
      "image/png": "[encoded data removed]",
      "text/plain": [
       "<Figure size 1008x576 with 1 Axes>"
      ]
     },
     "metadata": {
      "needs_background": "light"
     },
     "output_type": "display_data"
    }
   ],
   "source": [
    "stock_n = 4\n",
    "_res = pd.DataFrame(res)\n",
    "\n",
    "f, ax = plt.subplots(1, 1, figsize=(14,8))\n",
    "\n",
    "for b in breaks['break_ix']:\n",
    "    ax.axvline(b, color='green', alpha=0.4)\n",
    "    \n",
    "for swap in rs_lstm.log_swap:\n",
    "    ax.axvline(swap + start, color='blue', ls='--', alpha=0.4)\n",
    "\n",
    "ax.plot(range(start,end),_res[stock_n], label='Predicted Sharp ratio')\n",
    "ax.set_ylim(-0.5, 0.5)\n",
    "ax.plot(df_true_sharp[f's_{stock_n + 1}'][start: end], label = 'True Sharp ratio')\n",
    "ax.legend()"
   ]
  },
  {
   "cell_type": "code",
   "execution_count": 491,
   "metadata": {},
   "outputs": [],
   "source": [
    "f.savefig('..//figures//rolling_sharp_prediction_simulated.png')"
   ]
  },
  {
   "cell_type": "code",
   "execution_count": 492,
   "metadata": {},
   "outputs": [],
   "source": [
    "res = _res.rename(names, axis=1)\n",
    "mse = ((df_true_sharp.iloc[start: end] - res)**2).mean(axis=1).mean()"
   ]
  },
  {
   "cell_type": "code",
   "execution_count": 493,
   "metadata": {},
   "outputs": [
    {
     "data": {
      "text/plain": [
       "0.013119228560626748"
      ]
     },
     "execution_count": 493,
     "metadata": {},
     "output_type": "execute_result"
    }
   ],
   "source": [
    "mse"
   ]
  },
  {
   "cell_type": "code",
   "execution_count": null,
   "metadata": {},
   "outputs": [],
   "source": []
  }
 ],
 "metadata": {
  "kernelspec": {
   "display_name": "Python 3 (ACFS)",
   "language": "python",
   "name": "sodaexam"
  },
  "language_info": {
   "codemirror_mode": {
    "name": "ipython",
    "version": 3
   },
   "file_extension": ".py",
   "mimetype": "text/x-python",
   "name": "python",
   "nbconvert_exporter": "python",
   "pygments_lexer": "ipython3",
   "version": "3.7.2"
  }
 },
 "nbformat": 4,
 "nbformat_minor": 2
}
