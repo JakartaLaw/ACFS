{
 "cells": [
  {
   "cell_type": "code",
   "execution_count": 1,
   "metadata": {},
   "outputs": [],
   "source": [
    "import pandas as pd\n",
    "import numpy as np\n",
    "import matplotlib.pyplot as plt\n",
    "import seaborn as sbn\n",
    "import pickle\n",
    "import time"
   ]
  },
  {
   "cell_type": "code",
   "execution_count": 2,
   "metadata": {},
   "outputs": [],
   "source": [
    "FIGSIZE = (14,8)"
   ]
  },
  {
   "cell_type": "code",
   "execution_count": 3,
   "metadata": {},
   "outputs": [],
   "source": [
    "np.random.seed(100)"
   ]
  },
  {
   "cell_type": "code",
   "execution_count": 4,
   "metadata": {},
   "outputs": [],
   "source": [
    "with open('..//data//simulated_covar_matrices.pickle', 'rb') as f:\n",
    "    covar_matrices = pickle.load(f)"
   ]
  },
  {
   "cell_type": "code",
   "execution_count": 5,
   "metadata": {},
   "outputs": [
    {
     "data": {
      "text/plain": [
       "10000"
      ]
     },
     "execution_count": 5,
     "metadata": {},
     "output_type": "execute_result"
    }
   ],
   "source": [
    "len(covar_matrices)"
   ]
  },
  {
   "cell_type": "code",
   "execution_count": 6,
   "metadata": {},
   "outputs": [
    {
     "data": {
      "text/plain": [
       "array([0.01772747, 0.01137493, 0.01029109, 0.01551634, 0.01080268,\n",
       "       0.00975606, 0.0082655 , 0.01016475, 0.01246961, 0.02410599,\n",
       "       0.03126094])"
      ]
     },
     "execution_count": 6,
     "metadata": {},
     "output_type": "execute_result"
    }
   ],
   "source": [
    "np.diag(covar_matrices[0])**(0.5)"
   ]
  },
  {
   "cell_type": "code",
   "execution_count": 8,
   "metadata": {},
   "outputs": [],
   "source": [
    "# 252 days is found in another notebook\n",
    "\n",
    "def calc_risk_free_rate(annual_rate = 0.02, days=252):\n",
    "    return np.exp(np.log(1 + annual_rate) / days) - 1\n",
    "    \n",
    "rf = calc_risk_free_rate()"
   ]
  },
  {
   "cell_type": "code",
   "execution_count": 26,
   "metadata": {},
   "outputs": [
    {
     "name": "stdout",
     "output_type": "stream",
     "text": [
      "7.85849419846496e-05\n"
     ]
    }
   ],
   "source": [
    "print(rf)"
   ]
  },
  {
   "cell_type": "code",
   "execution_count": 9,
   "metadata": {},
   "outputs": [],
   "source": [
    "def sample_means(n=11):\n",
    "    # found from maximum likelihood estimation\n",
    "    mu, sigma = 0.001231415380377799, 0.0004612333818775558\n",
    "    return np.random.normal(mu, sigma, size=n)"
   ]
  },
  {
   "cell_type": "code",
   "execution_count": 10,
   "metadata": {},
   "outputs": [],
   "source": [
    "def calc_tangency_portfolio(mu, covars, rf):\n",
    "    ones, covars_inv = np.ones(len(means)), np.linalg.inv(covars)\n",
    "\n",
    "    risk_adjusted_mu = (mu - (rf * ones))\n",
    "    \n",
    "    numer = np.dot(covars_inv, risk_adjusted_mu)\n",
    "    denom = np.dot(ones.T, numer)\n",
    "    return numer / denom\n",
    "    "
   ]
  },
  {
   "cell_type": "code",
   "execution_count": 11,
   "metadata": {},
   "outputs": [],
   "source": [
    "def gen_names(prefix = 'weights', array_length=11):\n",
    "    if prefix == 'weights':\n",
    "        return [f\"w_{ix}\" for ix in range(1, array_length + 1)]\n",
    "    elif prefix == 'stocks':\n",
    "        return [f\"s_{ix}\" for ix in range(1, array_length + 1)]\n",
    "    else:\n",
    "        raise ValueError('prefix must be either stocks or weights')"
   ]
  },
  {
   "cell_type": "code",
   "execution_count": 12,
   "metadata": {},
   "outputs": [
    {
     "data": {
      "text/plain": [
       "array([-0.51683495,  0.62373848,  1.34652997, -0.12965774, -0.73878183,\n",
       "        1.00832038,  0.50061571, -1.02122239,  0.08366679, -0.2723402 ,\n",
       "        0.11596578])"
      ]
     },
     "execution_count": 12,
     "metadata": {},
     "output_type": "execute_result"
    }
   ],
   "source": [
    "means = sample_means()\n",
    "calc_tangency_portfolio(means, covar_matrices[0], rf)"
   ]
  },
  {
   "cell_type": "code",
   "execution_count": 13,
   "metadata": {},
   "outputs": [],
   "source": [
    "#https://math.stackexchange.com/questions/268298/sampling-from-a-2d-normal-with-a-given-covariance-matrix#268301 (explanation)\n"
   ]
  },
  {
   "cell_type": "code",
   "execution_count": 14,
   "metadata": {},
   "outputs": [],
   "source": [
    "class SimulateDatasets():\n",
    "    \"\"\"\n",
    "    Parameters\n",
    "    ==========\n",
    "    covar_matrices : list of covar_matrices\n",
    "    struct_break_prob : probability of structural break\n",
    "    \n",
    "    \"\"\"\n",
    "    \n",
    "    @staticmethod\n",
    "    def _sample_list_of_means(number_of_entries, n=11):\n",
    "        \"\"\"number_of_entries * n\"\"\"\n",
    "        \n",
    "        return [sample_means(n) for _ in range(number_of_entries)]\n",
    "        \n",
    "    def __init__(self, covar_matrices, struct_break_prob, risk_free_rate, dataset_length=1000):\n",
    "        n_vars, n_sims = len(covar_matrices[0]), len(covar_matrices)\n",
    "        self.n_vars = n_vars\n",
    "        self.n_sims = n_sims\n",
    "        self.risk_free_rate = risk_free_rate\n",
    "        self.struct_break_prob = struct_break_prob\n",
    "        self.covar_matrices = covar_matrices\n",
    "        self.expected_returns = self._sample_list_of_means(n_sims, n_vars)\n",
    "        self.dataset_length = dataset_length\n",
    "        \n",
    "        self.sim_number = 0\n",
    "        \n",
    "        \n",
    "    @staticmethod\n",
    "    def sample_returns(covar_matrix):\n",
    "        \"\"\"\n",
    "\n",
    "        Lower triangle matrix L (from cholesky) implies: L * x, where x is random variates. \n",
    "        \"\"\"\n",
    "        size = len(covar_matrix)\n",
    "        return np.dot(np.linalg.cholesky(covar_matrix), np.random.normal(size=size)) \n",
    "        \n",
    "    def sample_return(self):\n",
    "        means, covars = self.expected_returns[self.sim_number], self.covar_matrices[self.sim_number] \n",
    "        return self.sample_returns(covars) + means\n",
    "        \n",
    "    def sample_dataset(self):\n",
    "        sim_length = self.dataset_length\n",
    "            \n",
    "        returns = np.empty(shape=(self.n_vars, sim_length))\n",
    "        structural_breaks = list()\n",
    "        tangency_portfolios = np.empty(shape=(self.n_vars, sim_length))\n",
    "        \n",
    "        # adding new things\n",
    "        means_ = np.empty(shape=(self.n_vars, sim_length))\n",
    "        variances_ = np.empty(shape=(self.n_vars, sim_length))\n",
    "        \n",
    "        _mu, _covars = self.expected_returns[self.sim_number], self.covar_matrices[self.sim_number]\n",
    "        tp = calc_tangency_portfolio(_mu, _covars, self.risk_free_rate)\n",
    "        \n",
    "        tic = time.time()\n",
    "        for i in range(sim_length):\n",
    "            \n",
    "            structural_break = int(np.random.binomial(1, self.struct_break_prob, 1))\n",
    "            if structural_break == 1:\n",
    "                structural_breaks.append(i)\n",
    "                \n",
    "                self.sim_number = self.sim_number + 1\n",
    "                \n",
    "                _mu, _covars = self.expected_returns[self.sim_number], self.covar_matrices[self.sim_number]\n",
    "                tp = calc_tangency_portfolio(_mu, _covars, self.risk_free_rate)\n",
    "                \n",
    "            \n",
    "            r = self.sample_return()\n",
    "            \n",
    "            returns[:,i] = r\n",
    "            tangency_portfolios[:,i] = tp\n",
    "            means_[:,i] = _mu\n",
    "            variances_[:,i] = np.diag(_covars)\n",
    "            \n",
    "            if i % 2000 == 0:\n",
    "                toc = time.time()\n",
    "                perc_left = i / sim_length * 100\n",
    "                print(f'time passed {toc-tic:.1f} seconds. row nr: {i}. \\\n",
    "                        Perc done {perc_left:.1f} %. break nr: {self.sim_number}', flush=True, end=\"\\r\")\n",
    "            \n",
    "        return returns, tangency_portfolios, structural_breaks, means_, variances_"
   ]
  },
  {
   "cell_type": "code",
   "execution_count": 15,
   "metadata": {},
   "outputs": [
    {
     "name": "stdout",
     "output_type": "stream",
     "text": [
      "time passed 101.0 seconds. row nr: 1998000.                         Perc done 99.9 %. break nr: 9394\r"
     ]
    }
   ],
   "source": [
    "prob_struct_break = 0.0047\n",
    "\n",
    "sd = SimulateDatasets(covar_matrices, prob_struct_break, rf, dataset_length = 2000000)\n",
    "asset_returns, tangency_portfolios, breaks, means_, variances_ = sd.sample_dataset()"
   ]
  },
  {
   "cell_type": "code",
   "execution_count": 16,
   "metadata": {},
   "outputs": [],
   "source": [
    "array_len = asset_returns.shape[0]\n",
    "weight_names, stock_names = gen_names('weights', array_len), gen_names('stocks', array_len)"
   ]
  },
  {
   "cell_type": "code",
   "execution_count": 17,
   "metadata": {},
   "outputs": [],
   "source": [
    "asset_returns_df = pd.DataFrame(asset_returns.T,columns = stock_names)"
   ]
  },
  {
   "cell_type": "code",
   "execution_count": 18,
   "metadata": {},
   "outputs": [],
   "source": [
    "means_df = pd.DataFrame(means_.T, columns=stock_names)\n",
    "variances_df = pd.DataFrame(variances_.T, columns=stock_names)"
   ]
  },
  {
   "cell_type": "code",
   "execution_count": 19,
   "metadata": {},
   "outputs": [],
   "source": [
    "tangency_portfolios_df = pd.DataFrame(tangency_portfolios.T, columns= weight_names)"
   ]
  },
  {
   "cell_type": "code",
   "execution_count": 20,
   "metadata": {},
   "outputs": [
    {
     "data": {
      "text/html": [
       "<div>\n",
       "<style scoped>\n",
       "    .dataframe tbody tr th:only-of-type {\n",
       "        vertical-align: middle;\n",
       "    }\n",
       "\n",
       "    .dataframe tbody tr th {\n",
       "        vertical-align: top;\n",
       "    }\n",
       "\n",
       "    .dataframe thead th {\n",
       "        text-align: right;\n",
       "    }\n",
       "</style>\n",
       "<table border=\"1\" class=\"dataframe\">\n",
       "  <thead>\n",
       "    <tr style=\"text-align: right;\">\n",
       "      <th></th>\n",
       "      <th>s_1</th>\n",
       "      <th>s_2</th>\n",
       "      <th>s_3</th>\n",
       "      <th>s_4</th>\n",
       "      <th>s_5</th>\n",
       "      <th>s_6</th>\n",
       "      <th>s_7</th>\n",
       "      <th>s_8</th>\n",
       "      <th>s_9</th>\n",
       "      <th>s_10</th>\n",
       "      <th>s_11</th>\n",
       "    </tr>\n",
       "  </thead>\n",
       "  <tbody>\n",
       "    <tr>\n",
       "      <th>0</th>\n",
       "      <td>-0.000091</td>\n",
       "      <td>0.005418</td>\n",
       "      <td>0.002442</td>\n",
       "      <td>0.001967</td>\n",
       "      <td>0.005751</td>\n",
       "      <td>-0.005879</td>\n",
       "      <td>-0.000457</td>\n",
       "      <td>-0.004293</td>\n",
       "      <td>0.002508</td>\n",
       "      <td>0.011903</td>\n",
       "      <td>0.030373</td>\n",
       "    </tr>\n",
       "    <tr>\n",
       "      <th>1</th>\n",
       "      <td>0.016331</td>\n",
       "      <td>-0.000471</td>\n",
       "      <td>-0.000028</td>\n",
       "      <td>-0.009725</td>\n",
       "      <td>-0.025350</td>\n",
       "      <td>-0.004918</td>\n",
       "      <td>-0.006483</td>\n",
       "      <td>0.006783</td>\n",
       "      <td>0.000819</td>\n",
       "      <td>-0.039811</td>\n",
       "      <td>-0.020594</td>\n",
       "    </tr>\n",
       "    <tr>\n",
       "      <th>2</th>\n",
       "      <td>0.019530</td>\n",
       "      <td>-0.005195</td>\n",
       "      <td>0.012142</td>\n",
       "      <td>0.020219</td>\n",
       "      <td>0.002771</td>\n",
       "      <td>0.004215</td>\n",
       "      <td>0.007817</td>\n",
       "      <td>0.007028</td>\n",
       "      <td>0.005256</td>\n",
       "      <td>0.018469</td>\n",
       "      <td>0.049267</td>\n",
       "    </tr>\n",
       "    <tr>\n",
       "      <th>3</th>\n",
       "      <td>-0.003649</td>\n",
       "      <td>-0.024245</td>\n",
       "      <td>-0.005944</td>\n",
       "      <td>-0.009269</td>\n",
       "      <td>0.002127</td>\n",
       "      <td>0.012706</td>\n",
       "      <td>0.011076</td>\n",
       "      <td>-0.001436</td>\n",
       "      <td>-0.019565</td>\n",
       "      <td>-0.025789</td>\n",
       "      <td>0.022517</td>\n",
       "    </tr>\n",
       "    <tr>\n",
       "      <th>4</th>\n",
       "      <td>-0.006202</td>\n",
       "      <td>0.013617</td>\n",
       "      <td>-0.007585</td>\n",
       "      <td>-0.028449</td>\n",
       "      <td>-0.004494</td>\n",
       "      <td>0.002254</td>\n",
       "      <td>-0.024411</td>\n",
       "      <td>0.011328</td>\n",
       "      <td>-0.020478</td>\n",
       "      <td>-0.036851</td>\n",
       "      <td>0.040209</td>\n",
       "    </tr>\n",
       "  </tbody>\n",
       "</table>\n",
       "</div>"
      ],
      "text/plain": [
       "        s_1       s_2       s_3       s_4       s_5       s_6       s_7  \\\n",
       "0 -0.000091  0.005418  0.002442  0.001967  0.005751 -0.005879 -0.000457   \n",
       "1  0.016331 -0.000471 -0.000028 -0.009725 -0.025350 -0.004918 -0.006483   \n",
       "2  0.019530 -0.005195  0.012142  0.020219  0.002771  0.004215  0.007817   \n",
       "3 -0.003649 -0.024245 -0.005944 -0.009269  0.002127  0.012706  0.011076   \n",
       "4 -0.006202  0.013617 -0.007585 -0.028449 -0.004494  0.002254 -0.024411   \n",
       "\n",
       "        s_8       s_9      s_10      s_11  \n",
       "0 -0.004293  0.002508  0.011903  0.030373  \n",
       "1  0.006783  0.000819 -0.039811 -0.020594  \n",
       "2  0.007028  0.005256  0.018469  0.049267  \n",
       "3 -0.001436 -0.019565 -0.025789  0.022517  \n",
       "4  0.011328 -0.020478 -0.036851  0.040209  "
      ]
     },
     "execution_count": 20,
     "metadata": {},
     "output_type": "execute_result"
    }
   ],
   "source": [
    "asset_returns_df.head()"
   ]
  },
  {
   "cell_type": "code",
   "execution_count": 21,
   "metadata": {},
   "outputs": [
    {
     "data": {
      "text/html": [
       "<div>\n",
       "<style scoped>\n",
       "    .dataframe tbody tr th:only-of-type {\n",
       "        vertical-align: middle;\n",
       "    }\n",
       "\n",
       "    .dataframe tbody tr th {\n",
       "        vertical-align: top;\n",
       "    }\n",
       "\n",
       "    .dataframe thead th {\n",
       "        text-align: right;\n",
       "    }\n",
       "</style>\n",
       "<table border=\"1\" class=\"dataframe\">\n",
       "  <thead>\n",
       "    <tr style=\"text-align: right;\">\n",
       "      <th></th>\n",
       "      <th>w_1</th>\n",
       "      <th>w_2</th>\n",
       "      <th>w_3</th>\n",
       "      <th>w_4</th>\n",
       "      <th>w_5</th>\n",
       "      <th>w_6</th>\n",
       "      <th>w_7</th>\n",
       "      <th>w_8</th>\n",
       "      <th>w_9</th>\n",
       "      <th>w_10</th>\n",
       "      <th>w_11</th>\n",
       "    </tr>\n",
       "  </thead>\n",
       "  <tbody>\n",
       "    <tr>\n",
       "      <th>0</th>\n",
       "      <td>-0.340256</td>\n",
       "      <td>0.535672</td>\n",
       "      <td>1.112487</td>\n",
       "      <td>-0.125229</td>\n",
       "      <td>-0.608626</td>\n",
       "      <td>0.654174</td>\n",
       "      <td>0.678891</td>\n",
       "      <td>-0.746915</td>\n",
       "      <td>-0.051019</td>\n",
       "      <td>-0.200929</td>\n",
       "      <td>0.091749</td>\n",
       "    </tr>\n",
       "    <tr>\n",
       "      <th>1</th>\n",
       "      <td>-0.340256</td>\n",
       "      <td>0.535672</td>\n",
       "      <td>1.112487</td>\n",
       "      <td>-0.125229</td>\n",
       "      <td>-0.608626</td>\n",
       "      <td>0.654174</td>\n",
       "      <td>0.678891</td>\n",
       "      <td>-0.746915</td>\n",
       "      <td>-0.051019</td>\n",
       "      <td>-0.200929</td>\n",
       "      <td>0.091749</td>\n",
       "    </tr>\n",
       "    <tr>\n",
       "      <th>2</th>\n",
       "      <td>-0.340256</td>\n",
       "      <td>0.535672</td>\n",
       "      <td>1.112487</td>\n",
       "      <td>-0.125229</td>\n",
       "      <td>-0.608626</td>\n",
       "      <td>0.654174</td>\n",
       "      <td>0.678891</td>\n",
       "      <td>-0.746915</td>\n",
       "      <td>-0.051019</td>\n",
       "      <td>-0.200929</td>\n",
       "      <td>0.091749</td>\n",
       "    </tr>\n",
       "    <tr>\n",
       "      <th>3</th>\n",
       "      <td>-0.340256</td>\n",
       "      <td>0.535672</td>\n",
       "      <td>1.112487</td>\n",
       "      <td>-0.125229</td>\n",
       "      <td>-0.608626</td>\n",
       "      <td>0.654174</td>\n",
       "      <td>0.678891</td>\n",
       "      <td>-0.746915</td>\n",
       "      <td>-0.051019</td>\n",
       "      <td>-0.200929</td>\n",
       "      <td>0.091749</td>\n",
       "    </tr>\n",
       "    <tr>\n",
       "      <th>4</th>\n",
       "      <td>-0.340256</td>\n",
       "      <td>0.535672</td>\n",
       "      <td>1.112487</td>\n",
       "      <td>-0.125229</td>\n",
       "      <td>-0.608626</td>\n",
       "      <td>0.654174</td>\n",
       "      <td>0.678891</td>\n",
       "      <td>-0.746915</td>\n",
       "      <td>-0.051019</td>\n",
       "      <td>-0.200929</td>\n",
       "      <td>0.091749</td>\n",
       "    </tr>\n",
       "  </tbody>\n",
       "</table>\n",
       "</div>"
      ],
      "text/plain": [
       "        w_1       w_2       w_3       w_4       w_5       w_6       w_7  \\\n",
       "0 -0.340256  0.535672  1.112487 -0.125229 -0.608626  0.654174  0.678891   \n",
       "1 -0.340256  0.535672  1.112487 -0.125229 -0.608626  0.654174  0.678891   \n",
       "2 -0.340256  0.535672  1.112487 -0.125229 -0.608626  0.654174  0.678891   \n",
       "3 -0.340256  0.535672  1.112487 -0.125229 -0.608626  0.654174  0.678891   \n",
       "4 -0.340256  0.535672  1.112487 -0.125229 -0.608626  0.654174  0.678891   \n",
       "\n",
       "        w_8       w_9      w_10      w_11  \n",
       "0 -0.746915 -0.051019 -0.200929  0.091749  \n",
       "1 -0.746915 -0.051019 -0.200929  0.091749  \n",
       "2 -0.746915 -0.051019 -0.200929  0.091749  \n",
       "3 -0.746915 -0.051019 -0.200929  0.091749  \n",
       "4 -0.746915 -0.051019 -0.200929  0.091749  "
      ]
     },
     "execution_count": 21,
     "metadata": {},
     "output_type": "execute_result"
    }
   ],
   "source": [
    "tangency_portfolios_df.head()"
   ]
  },
  {
   "cell_type": "code",
   "execution_count": 22,
   "metadata": {},
   "outputs": [
    {
     "data": {
      "text/plain": [
       "[<matplotlib.lines.Line2D at 0x1517c20f0>]"
      ]
     },
     "execution_count": 22,
     "metadata": {},
     "output_type": "execute_result"
    },
    {
     "data": {
      "image/png": "[encoded data removed]",
      "text/plain": [
       "<Figure size 1008x576 with 4 Axes>"
      ]
     },
     "metadata": {
      "needs_background": "light"
     },
     "output_type": "display_data"
    }
   ],
   "source": [
    "k = asset_returns_df.loc[asset_returns_df.index < 1000]\n",
    "h = tangency_portfolios_df.loc[tangency_portfolios_df.index < 1000]\n",
    "_breaks = filter(lambda x: x < 1000, breaks)\n",
    "\n",
    "\n",
    "f, (ax1, ax2, ax3, axb) = plt.subplots(4,1, figsize=FIGSIZE)\n",
    "ax1.plot(k['s_1'], color='blue')\n",
    "ax2.plot(k['s_2'], color='green')\n",
    "ax3.plot(k['s_3'], color='purple')\n",
    "\n",
    "for b in _breaks:\n",
    "    ax1.axvline(b, color='black')\n",
    "    ax2.axvline(b, color='black')\n",
    "    ax3.axvline(b, color='black')\n",
    "\n",
    "    axb.axvline(b, color='red')\n",
    "\n",
    "axb.plot(h['w_1'], color='blue')\n",
    "axb.plot(h['w_2'], color='green')\n",
    "axb.plot(h['w_3'], color='purple')\n",
    "\n",
    "\n"
   ]
  },
  {
   "cell_type": "markdown",
   "metadata": {},
   "source": [
    "## Looking at returns"
   ]
  },
  {
   "cell_type": "code",
   "execution_count": 23,
   "metadata": {},
   "outputs": [],
   "source": [
    "breaks_df = pd.DataFrame(breaks, columns = ['break_ix'])"
   ]
  },
  {
   "cell_type": "code",
   "execution_count": 24,
   "metadata": {},
   "outputs": [],
   "source": [
    "# saving data!\n",
    "df_name_returns = '..//data//simulated_returns.pickle'\n",
    "df_name_tps = '..//data//simulated_tangency_portfolios.pickle'\n",
    "df_name_breaks = '..//data//simulated_breaks_ix.pickle'\n",
    "df_name_means = '..//data//simulated_means.pickle'\n",
    "df_name_variances = '..//data//simulated_variances.pickle'\n",
    "\n",
    "asset_returns_df.to_pickle(df_name_returns)\n",
    "tangency_portfolios_df.to_pickle(df_name_tps)\n",
    "breaks_df.to_pickle(df_name_breaks)\n",
    "means_df.to_pickle(df_name_means)\n",
    "variances_df.to_pickle(df_name_variances)"
   ]
  },
  {
   "cell_type": "markdown",
   "metadata": {},
   "source": [
    "### Article deriving the efficient portfolio Frontier\n",
    "\n",
    "Merton, Robert, 1972, An Analytic Derivation of the Efficient Portfolio Frontier, Journal of Financial and Quantitative Analysis"
   ]
  }
 ],
 "metadata": {
  "kernelspec": {
   "display_name": "Python 3 (ACFS)",
   "language": "python",
   "name": "sodaexam"
  },
  "language_info": {
   "codemirror_mode": {
    "name": "ipython",
    "version": 3
   },
   "file_extension": ".py",
   "mimetype": "text/x-python",
   "name": "python",
   "nbconvert_exporter": "python",
   "pygments_lexer": "ipython3",
   "version": "3.7.2"
  }
 },
 "nbformat": 4,
 "nbformat_minor": 2
}
