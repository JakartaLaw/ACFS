{
 "cells": [
  {
   "cell_type": "code",
   "execution_count": 1,
   "metadata": {},
   "outputs": [],
   "source": [
    "import pandas as pd\n",
    "import numpy as np\n",
    "import matplotlib.pyplot as plt\n",
    "import seaborn as sbn\n",
    "\n",
    "from collections import deque"
   ]
  },
  {
   "cell_type": "code",
   "execution_count": 5,
   "metadata": {},
   "outputs": [],
   "source": [
    "data = pd.read_pickle('..//data//clean_data.pkl')\n",
    "raw_data = pd.read_pickle('..//data//raw_data.pkl')"
   ]
  },
  {
   "cell_type": "code",
   "execution_count": 6,
   "metadata": {},
   "outputs": [],
   "source": [
    "class InvestReturn():\n",
    "    \"\"\"portfolio pandas df or series\"\"\"\n",
    "    \n",
    "    def __init__(self, portfolio, start_value = 100):\n",
    "        self.portfolio = portfolio\n",
    "        self.start_value = start_value\n",
    "        \n",
    "    def run(self):\n",
    "        self.result = list()\n",
    "        \n",
    "        assets = self.start_value\n",
    "        \n",
    "        self.result.append(assets)\n",
    "        for r in self.portfolio:\n",
    "        \n",
    "            assets = assets * (1+r)\n",
    "            self.result.append(assets)\n",
    "            \n",
    "        return pd.Series(self.result[1:], index=self.portfolio.index)\n",
    "    \n",
    "    def plot(self):\n",
    "        d = self.run()\n",
    "        plt.plot(d)\n",
    "        \n",
    "    def log_run(self):\n",
    "        d = self.run()\n",
    "        return np.log(d)"
   ]
  },
  {
   "cell_type": "code",
   "execution_count": 8,
   "metadata": {},
   "outputs": [
    {
     "data": {
      "text/plain": [
       "<matplotlib.axes._subplots.AxesSubplot at 0x10b365ef0>"
      ]
     },
     "execution_count": 8,
     "metadata": {},
     "output_type": "execute_result"
    },
    {
     "data": {
      "image/png": "[encoded data removed]",
      "text/plain": [
       "<Figure size 432x288 with 1 Axes>"
      ]
     },
     "metadata": {
      "needs_background": "light"
     },
     "output_type": "display_data"
    }
   ],
   "source": [
    "raw_data['AAPL'].plot()"
   ]
  },
  {
   "cell_type": "code",
   "execution_count": 18,
   "metadata": {},
   "outputs": [],
   "source": [
    "rr = raw_data['AAPL'].pct_change()"
   ]
  },
  {
   "cell_type": "code",
   "execution_count": 19,
   "metadata": {},
   "outputs": [
    {
     "data": {
      "text/plain": [
       "Date\n",
       "1990-01-02         NaN\n",
       "1990-01-03    0.006711\n",
       "1990-01-04    0.003467\n",
       "1990-01-05    0.003189\n",
       "1990-01-08    0.006623\n",
       "                ...   \n",
       "2018-03-21   -0.022655\n",
       "2018-03-22   -0.014159\n",
       "2018-03-23   -0.023128\n",
       "2018-03-26    0.047472\n",
       "2018-03-27   -0.025641\n",
       "Name: AAPL, Length: 7114, dtype: float64"
      ]
     },
     "execution_count": 19,
     "metadata": {},
     "output_type": "execute_result"
    }
   ],
   "source": [
    "rr"
   ]
  },
  {
   "cell_type": "code",
   "execution_count": 23,
   "metadata": {},
   "outputs": [
    {
     "data": {
      "image/png": "[encoded data removed]",
      "text/plain": [
       "<Figure size 432x288 with 1 Axes>"
      ]
     },
     "metadata": {
      "needs_background": "light"
     },
     "output_type": "display_data"
    }
   ],
   "source": [
    "InvestReturn(rr[1:], start_value=raw_data['AAPL'][0]).plot()"
   ]
  },
  {
   "cell_type": "code",
   "execution_count": 11,
   "metadata": {},
   "outputs": [],
   "source": [
    "sv, ev = raw_data['AAPL'][0], raw_data['AAPL'][-1]"
   ]
  },
  {
   "cell_type": "code",
   "execution_count": 14,
   "metadata": {},
   "outputs": [
    {
     "data": {
      "text/plain": [
       "150.55991701132564"
      ]
     },
     "execution_count": 14,
     "metadata": {},
     "output_type": "execute_result"
    }
   ],
   "source": [
    "ev / sv"
   ]
  },
  {
   "cell_type": "code",
   "execution_count": null,
   "metadata": {},
   "outputs": [],
   "source": []
  }
 ],
 "metadata": {
  "kernelspec": {
   "display_name": "Python 3 (ACFS)",
   "language": "python",
   "name": "sodaexam"
  },
  "language_info": {
   "codemirror_mode": {
    "name": "ipython",
    "version": 3
   },
   "file_extension": ".py",
   "mimetype": "text/x-python",
   "name": "python",
   "nbconvert_exporter": "python",
   "pygments_lexer": "ipython3",
   "version": "3.7.2"
  }
 },
 "nbformat": 4,
 "nbformat_minor": 2
}
